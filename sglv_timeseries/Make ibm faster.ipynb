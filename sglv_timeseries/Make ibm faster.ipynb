{
 "cells": [
  {
   "cell_type": "code",
   "execution_count": 6,
   "metadata": {},
   "outputs": [
    {
     "name": "stdout",
     "output_type": "stream",
     "text": [
      "The autoreload extension is already loaded. To reload it, use:\n",
      "  %reload_ext autoreload\n"
     ]
    }
   ],
   "source": [
    "%load_ext autoreload\n",
    "\n",
    "%autoreload 2\n",
    "\n",
    "import sys\n",
    "sys.path.insert(1, '../enterotypes_ibm') # now we can import files from this directory too\n",
    "import statevectors as ibm\n",
    "\n",
    "import numpy as np"
   ]
  },
  {
   "cell_type": "code",
   "execution_count": 9,
   "metadata": {},
   "outputs": [
    {
     "name": "stderr",
     "output_type": "stream",
     "text": [
      "/Users/wkits/anaconda/lib/python3.5/site-packages/numpy/core/numeric.py:301: FutureWarning: in the future, full([21], 330) will return an array of dtype('int64')\n",
      "  format(shape, fill_value, array(fill_value).dtype), FutureWarning)\n"
     ]
    }
   ],
   "source": [
    "# define parameters\n",
    "\n",
    "S = 20                              # number of species in the metacommunity\n",
    "s = 16                          # number of species in each local community\n",
    "LCs = 50                            # number of local communities\n",
    "sites = 10000\n",
    "connectance = 0.3               \n",
    "\n",
    "SIS = [1]\n",
    "SISfactor_ = 200\n",
    "maxint = 0.5\n",
    "minmigration = 0.4; maxmigration = 0.4\n",
    "minextinction = 0.3; maxextinction = 0.3\n",
    "\n",
    "SISfactor = np.ones(S+1, dtype=int)\n",
    "SISfactor[SIS] *= SISfactor_\n",
    "\n",
    "omega = np.random.uniform(-maxint,maxint, [S+1, S+1])\n",
    "omega *= np.random.choice([0, 1], omega.shape, p=[1-connectance, connectance]) # connectance\n",
    "omega[:,0] = 0.3 # growth rates\n",
    "\n",
    "np.fill_diagonal(omega, -1.) # self-interaction\n",
    "omega[0,:] = 0 # no growth of empty sites\n",
    "\n",
    "omega_SIS = omega * SISfactor\n",
    "\n",
    "# immigration rates\n",
    "mu = np.random.uniform(minmigration,maxmigration, [S+1]); mu[0] = 0\n",
    "\n",
    "# extinction rates\n",
    "e = np.random.uniform(minextinction,maxextinction, [S+1]); e[0] = 0\n",
    "\n",
    "initcond = np.full([S+1], int(0.66*sites/S))\n",
    "initcond[0] = sites - sum(initcond[1:])"
   ]
  },
  {
   "cell_type": "markdown",
   "metadata": {},
   "source": [
    "Line profiling of function"
   ]
  },
  {
   "cell_type": "code",
   "execution_count": 10,
   "metadata": {},
   "outputs": [
    {
     "name": "stdout",
     "output_type": "stream",
     "text": [
      "The line_profiler extension is already loaded. To reload it, use:\n",
      "  %reload_ext line_profiler\n"
     ]
    }
   ],
   "source": [
    "%load_ext line_profiler\n",
    "\n",
    "%lprun -f ibm.run_timeseries ibm.run_timeseries(omega, mu, e, initcond, SISfactor)"
   ]
  },
  {
   "cell_type": "code",
   "execution_count": 11,
   "metadata": {
    "collapsed": true
   },
   "outputs": [],
   "source": [
    "import random"
   ]
  },
  {
   "cell_type": "code",
   "execution_count": 14,
   "metadata": {},
   "outputs": [
    {
     "name": "stdout",
     "output_type": "stream",
     "text": [
      "The slowest run took 62.25 times longer than the fastest. This could mean that an intermediate result is being cached.\n",
      "1000000 loops, best of 3: 1.43 µs per loop\n",
      "The slowest run took 4.14 times longer than the fastest. This could mean that an intermediate result is being cached.\n",
      "100000 loops, best of 3: 2.21 µs per loop\n"
     ]
    }
   ],
   "source": [
    "%timeit np.random.randint(1,20)\n",
    "%timeit random.randint(1,20)"
   ]
  },
  {
   "cell_type": "code",
   "execution_count": 22,
   "metadata": {
    "collapsed": true
   },
   "outputs": [],
   "source": [
    "import time\n",
    "import bisect\n",
    "\n",
    "class WeightedRandomGenerator(object):\n",
    "    # code from https://eli.thegreenplace.net/2010/01/22/weighted-random-generation-in-python\n",
    "    # faster than using np random choice\n",
    "    def __init__(self, weights, r=0):\n",
    "        self.totals = []\n",
    "        running_total = 0\n",
    "\n",
    "        if r == 0:\n",
    "            r = int(time.time())\n",
    "        random.seed(r)\n",
    "\n",
    "        for w in weights:\n",
    "            running_total += w\n",
    "            self.totals.append(running_total)\n",
    "\n",
    "    def __call__(self):\n",
    "        return bisect.bisect_right(self.totals, random.random() * self.totals[-1])\n"
   ]
  },
  {
   "cell_type": "code",
   "execution_count": 23,
   "metadata": {},
   "outputs": [
    {
     "name": "stdout",
     "output_type": "stream",
     "text": [
      "The slowest run took 7.56 times longer than the fastest. This could mean that an intermediate result is being cached.\n",
      "1000000 loops, best of 3: 916 ns per loop\n"
     ]
    }
   ],
   "source": [
    "x = np.random.uniform(0,1,[20])\n",
    "randomx = WeightedRandomGenerator(x)\n",
    "\n",
    "%timeit A = randomx()"
   ]
  },
  {
   "cell_type": "code",
   "execution_count": 29,
   "metadata": {},
   "outputs": [],
   "source": [
    "def func_wg(x, tot):\n",
    "    rnd = random.random() * tot\n",
    "    return bisect.bisect_right(x, rnd)\n",
    "\n",
    "x = np.random.uniform(0,1,[20])\n",
    "tot = sum(x)\n",
    "\n",
    "%lprun -f func_wg func_wg(x, tot)"
   ]
  },
  {
   "cell_type": "code",
   "execution_count": 53,
   "metadata": {},
   "outputs": [
    {
     "name": "stdout",
     "output_type": "stream",
     "text": [
      "The slowest run took 8.05 times longer than the fastest. This could mean that an intermediate result is being cached.\n",
      "1000000 loops, best of 3: 774 ns per loop\n",
      "The slowest run took 11.61 times longer than the fastest. This could mean that an intermediate result is being cached.\n",
      "1000000 loops, best of 3: 1.68 µs per loop\n"
     ]
    }
   ],
   "source": [
    "x = np.linspace(0,100,5)\n",
    "\n",
    "y = -1\n",
    "\n",
    "%timeit bisect.bisect_right(x, y)\n",
    "%timeit len(x[y >= x])"
   ]
  },
  {
   "cell_type": "code",
   "execution_count": 55,
   "metadata": {},
   "outputs": [
    {
     "name": "stdout",
     "output_type": "stream",
     "text": [
      "The slowest run took 13.22 times longer than the fastest. This could mean that an intermediate result is being cached.\n",
      "1000000 loops, best of 3: 752 ns per loop\n",
      "The slowest run took 6.28 times longer than the fastest. This could mean that an intermediate result is being cached.\n",
      "1000000 loops, best of 3: 698 ns per loop\n"
     ]
    }
   ],
   "source": [
    "%timeit rnd = random.random() * x[-1]; bisect.bisect_right(x, rnd)\n",
    "%timeit bisect.bisect_right(x, random.random() * x[-1])"
   ]
  },
  {
   "cell_type": "code",
   "execution_count": 59,
   "metadata": {},
   "outputs": [
    {
     "name": "stdout",
     "output_type": "stream",
     "text": [
      "100 loops, best of 3: 9.35 ms per loop\n"
     ]
    }
   ],
   "source": [
    "%%timeit\n",
    "\n",
    "r = np.random.uniform(0,1,50000)\n",
    "for i in range(50000):\n",
    "    a = r[i]"
   ]
  },
  {
   "cell_type": "code",
   "execution_count": 60,
   "metadata": {},
   "outputs": [
    {
     "name": "stdout",
     "output_type": "stream",
     "text": [
      "100 loops, best of 3: 8.55 ms per loop\n"
     ]
    }
   ],
   "source": [
    "%%timeit\n",
    "\n",
    "for i in range(50000):\n",
    "    a = random.random()"
   ]
  },
  {
   "cell_type": "code",
   "execution_count": null,
   "metadata": {
    "collapsed": true
   },
   "outputs": [],
   "source": []
  }
 ],
 "metadata": {
  "hide_input": false,
  "kernelspec": {
   "display_name": "Python 3",
   "language": "python",
   "name": "python3"
  },
  "language_info": {
   "codemirror_mode": {
    "name": "ipython",
    "version": 3
   },
   "file_extension": ".py",
   "mimetype": "text/x-python",
   "name": "python",
   "nbconvert_exporter": "python",
   "pygments_lexer": "ipython3",
   "version": "3.7.4"
  },
  "toc": {
   "base_numbering": 1,
   "nav_menu": {},
   "number_sections": true,
   "sideBar": true,
   "skip_h1_title": false,
   "title_cell": "Table of Contents",
   "title_sidebar": "Contents",
   "toc_cell": false,
   "toc_position": {},
   "toc_section_display": true,
   "toc_window_display": false
  },
  "varInspector": {
   "cols": {
    "lenName": 16,
    "lenType": 16,
    "lenVar": 40
   },
   "kernels_config": {
    "python": {
     "delete_cmd_postfix": "",
     "delete_cmd_prefix": "del ",
     "library": "var_list.py",
     "varRefreshCmd": "print(var_dic_list())"
    },
    "r": {
     "delete_cmd_postfix": ") ",
     "delete_cmd_prefix": "rm(",
     "library": "var_list.r",
     "varRefreshCmd": "cat(var_dic_list()) "
    }
   },
   "types_to_exclude": [
    "module",
    "function",
    "builtin_function_or_method",
    "instance",
    "_Feature"
   ],
   "window_display": false
  }
 },
 "nbformat": 4,
 "nbformat_minor": 1
}
