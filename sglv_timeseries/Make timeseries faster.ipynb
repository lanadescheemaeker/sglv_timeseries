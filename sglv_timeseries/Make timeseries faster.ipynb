{
 "cells": [
  {
   "cell_type": "markdown",
   "metadata": {},
   "source": [
    "# Introduction\n",
    "State notebook purpose here"
   ]
  },
  {
   "cell_type": "markdown",
   "metadata": {},
   "source": [
    "## Standard imports"
   ]
  },
  {
   "cell_type": "code",
   "execution_count": 1,
   "metadata": {
    "ExecuteTime": {
     "end_time": "2020-08-05T15:13:55.502737Z",
     "start_time": "2020-08-05T15:13:54.676449Z"
    }
   },
   "outputs": [],
   "source": [
    "# Data manipulation\n",
    "import pandas as pd\n",
    "import numpy as np\n",
    "\n",
    "# Options for pandas\n",
    "pd.options.display.max_columns = 50\n",
    "pd.options.display.max_rows = 30\n",
    "\n",
    "from IPython import get_ipython\n",
    "ipython = get_ipython()\n",
    "\n",
    "# autoreload extension\n",
    "if 'autoreload' not in ipython.extension_manager.loaded:\n",
    "    %load_ext autoreload\n",
    "\n",
    "%autoreload 2\n",
    "\n",
    "import matplotlib.pyplot as plt\n",
    "from matplotlib import gridspec\n",
    "%matplotlib inline\n",
    "\n",
    "import time\n",
    "np.random.seed(int(time.time()))"
   ]
  },
  {
   "cell_type": "markdown",
   "metadata": {},
   "source": [
    "## Specific imports"
   ]
  },
  {
   "cell_type": "code",
   "execution_count": 2,
   "metadata": {
    "ExecuteTime": {
     "end_time": "2020-08-05T15:13:56.764974Z",
     "start_time": "2020-08-05T15:13:56.399817Z"
    }
   },
   "outputs": [],
   "source": [
    "from generate_timeseries import *"
   ]
  },
  {
   "cell_type": "markdown",
   "metadata": {},
   "source": [
    "# Analysis/Modeling\n",
    "Do work here"
   ]
  },
  {
   "cell_type": "code",
   "execution_count": 9,
   "metadata": {
    "ExecuteTime": {
     "end_time": "2020-08-05T16:29:39.969271Z",
     "start_time": "2020-08-05T16:29:34.821042Z"
    }
   },
   "outputs": [
    {
     "name": "stdout",
     "output_type": "stream",
     "text": [
      "The line_profiler extension is already loaded. To reload it, use:\n",
      "  %reload_ext line_profiler\n"
     ]
    }
   ],
   "source": [
    "N = 500\n",
    "\n",
    "params = {}\n",
    "\n",
    "steadystate = np.logspace(-3, 2, N).reshape([N, 1])\n",
    "\n",
    "# no interaction\n",
    "omega = np.zeros([N, N]);\n",
    "np.fill_diagonal(omega, -1)\n",
    "\n",
    "params['interaction_matrix'] = omega\n",
    "\n",
    "# no immigration\n",
    "params['immigration_rate'] = np.zeros([N, 1])\n",
    "\n",
    "# different growth rates determined by the steady state\n",
    "params['growth_rate'] = - (omega).dot(steadystate)\n",
    "\n",
    "params['initial_condition'] = np.copy(steadystate) * np.random.normal(1, 0.1, steadystate.shape)\n",
    "\n",
    "params['noise_linear'] = 1e-1\n",
    "\n",
    "params['maximum_capacity'] = 1\n",
    "\n",
    "%load_ext line_profiler\n",
    "\n",
    "%lprun -f Timeseries2.add_step Timeseries2(params)\n",
    "\n",
    "#%timeit Timeseries(params, noise_implementation=NOISE.LANGEVIN_LINEAR, model = MODEL.MAX, dt=0.01, tskip=49, T=200.0, seed=int(time.time()))\n",
    "\n",
    "#%timeit Timeseries_old(params, noise_implementation=NOISE.LANGEVIN_LINEAR, model = MODEL.MAX, dt=0.01, tskip=49, T=200.0, seed=int(time.time()))"
   ]
  },
  {
   "cell_type": "code",
   "execution_count": null,
   "metadata": {},
   "outputs": [],
   "source": [
    "\n"
   ]
  },
  {
   "cell_type": "markdown",
   "metadata": {},
   "source": [
    "# Results\n",
    "Show graphs and stats here"
   ]
  },
  {
   "cell_type": "markdown",
   "metadata": {},
   "source": [
    "# Conclusions and Next Steps\n",
    "Summarize findings here"
   ]
  },
  {
   "cell_type": "code",
   "execution_count": 6,
   "metadata": {
    "ExecuteTime": {
     "end_time": "2020-08-05T16:28:08.033763Z",
     "start_time": "2020-08-05T16:28:07.956781Z"
    }
   },
   "outputs": [],
   "source": [
    "class Timeseries2():\n",
    "    def __init__(self, params, model=MODEL.GLV, noise_implementation=NOISE.LANGEVIN_LINEAR, dt=0.01, T=100, tskip=0,\n",
    "                 f=0, seed=None):\n",
    "        self.params = params\n",
    "        self.model = model\n",
    "        self.noise_implementation = noise_implementation\n",
    "        self.dt = dt\n",
    "        self.T = T\n",
    "        self.tskip = tskip\n",
    "        self.f = f\n",
    "        self.seed = seed\n",
    "\n",
    "        self.set_seed()\n",
    "\n",
    "        self.check_input_parameters()\n",
    "        self.set_parameters(params)\n",
    "\n",
    "        self.init_Nspecies_Nmetabolites()\n",
    "\n",
    "        #self.deterministic_step = self.deterministic_step_function()\n",
    "        #self.stochastic_step = self.stochastic_step_function()\n",
    "        #self.add_step = self.add_step_function()\n",
    "\n",
    "        if self.model in [MODEL.GLV, MODEL.MAX]:\n",
    "            self.x = np.copy(self.params['initial_condition'])\n",
    "        elif self.model == MODEL.QSMI:\n",
    "            self.x = np.copy(self.params['initial_condition'])[:len(self.params['d'])]  # initial state species\n",
    "            self.y = np.copy(self.params['initial_condition'])[len(self.params['d']):]  # initial state metabolites ad\n",
    "        self.x_ts = np.copy(self.x)\n",
    "        \n",
    "        if self.model in [MODEL.GLV, MODEL.MAX]:\n",
    "            self.interaction_matrix_pos = self.interaction_matrix.copy(); \n",
    "            self.interaction_matrix_pos[self.interaction_matrix < 0] = 0;\n",
    "            \n",
    "            self.interaction_matrix_neg = self.interaction_matrix.copy(); \n",
    "            self.interaction_matrix_neg[self.interaction_matrix > 0] = 0;\n",
    "            \n",
    "            self.growth_rate_pos = self.growth_rate.copy(); \n",
    "            self.growth_rate_pos[self.growth_rate < 0] = 0;\n",
    "            \n",
    "            self.growth_rate_neg = self.growth_rate.copy(); \n",
    "            self.growth_rate_neg[self.growth_rate > 0] = 0;\n",
    "\n",
    "        if f != 0:\n",
    "            self.write_header()\n",
    "\n",
    "        self.integrate()\n",
    "\n",
    "    def set_seed(self):\n",
    "        if self.seed == None:\n",
    "            np.random.seed(int(time.time()))\n",
    "        else:\n",
    "            np.random.seed(self.seed)\n",
    "\n",
    "    def set_parameters(self, params):\n",
    "        for key, value in params.items():\n",
    "            setattr(self, key, value)\n",
    "\n",
    "    def check_input_parameters(self):\n",
    "        # Function to check if all necessary parameters where provided, raises error if parameters are missing\n",
    "\n",
    "        if self.model in [MODEL.GLV, MODEL.MAX]:\n",
    "            parlist = ['interaction_matrix', 'immigration_rate', 'growth_rate', 'initial_condition']\n",
    "\n",
    "            if 'LINEAR' in self.noise_implementation.name:\n",
    "                parlist += ['noise_linear']\n",
    "            elif 'SQRT' in self.noise_implementation.name:\n",
    "                parlist += ['noise_sqrt']\n",
    "            elif 'CONSTANT' in self.noise_implementation.name:\n",
    "                parlist += ['noise_constant']\n",
    "            elif 'INTERACTION' in self.noise_implementation.name:\n",
    "                parlist += ['noise_interaction']\n",
    "\n",
    "            if self.model in [MODEL.MAX]:\n",
    "                parlist += ['maximum_capacity']\n",
    "\n",
    "        elif self.model == MODEL.QSMI:\n",
    "            parlist = ['psi', 'd', 'g', 'dm', 'kappa', 'phi', 'initcond', 'noise']\n",
    "\n",
    "        if 'MAX' in self.noise_implementation.name:\n",
    "            parlist += ['maximum_capacity']\n",
    "\n",
    "        for par in parlist:\n",
    "            if not par in self.params:\n",
    "                raise KeyError('Parameter %s needs to be specified for the %s model and %s noise implementation.' % (\n",
    "                    par, self.model.name, self.noise_implementation.name))\n",
    "\n",
    "        # check whether matrix shapes are correct\n",
    "        if self.model == MODEL.GLV:\n",
    "            if not np.all(len(row) == len(self.params['interaction_matrix']) for row in\n",
    "                          self.params['interaction_matrix']):\n",
    "                raise ValueError('Interaction matrix is not square.')\n",
    "\n",
    "            for parname in ['immigration_rate', 'growth_rate', 'initial_condition']:\n",
    "                if np.any(self.params[parname].shape != (self.params['interaction_matrix'].shape[0], 1)):\n",
    "                    raise ValueError('%s has the incorrect shape: %s instead of (%d,1)' % (\n",
    "                        parname, str(self.params[parname].shape), self.params['interaction_matrix'].shape[0]))\n",
    "\n",
    "    def write_header(self):\n",
    "        # Write down header in file f\n",
    "        with open(self.f, \"a\") as file:\n",
    "            file.write(\"time\")\n",
    "            for k in range(1, self.Nspecies + 1):\n",
    "                file.write(\",species_%d\" % k)\n",
    "            for k in range(1, self.Nmetabolites + 1):\n",
    "                file.write(\",metabolite_%d\" % k)\n",
    "\n",
    "            file.write(\"\\n\")\n",
    "\n",
    "            file.write(\"%.3E\" % 0)\n",
    "            for k in self.initial_condition:\n",
    "                file.write(\",%.3E\" % k)\n",
    "            file.write(\"\\n\")\n",
    "\n",
    "    def init_Nspecies_Nmetabolites(self):\n",
    "        if self.model in [MODEL.GLV, MODEL.MAX]:\n",
    "            self.Nspecies = len(self.interaction_matrix)  # number of species\n",
    "            self.Nmetabolites = 0  # number of metabolites, 0 in the GLV models\n",
    "        elif self.model == MODEL.QSMI:\n",
    "            self.Nspecies = len(self.d)  # number of species\n",
    "            self.Nmetabolites = len(self.dm)  # number of metabolites\n",
    "\n",
    "    def integrate(self):\n",
    "        # If noise is Ito, first generate brownian motion.\n",
    "        if self.noise_implementation == NOISE.ARATO_LINEAR:\n",
    "            self.xt = np.zeros_like(self.initial_condition)\n",
    "            self.bm = brownian(np.zeros(len(self.initial_condition)), int(self.T / self.dt), self.dt, 1,\n",
    "                               out=None)\n",
    "\n",
    "        x_ts = np.zeros([int(self.T / (self.dt * (self.tskip + 1))), self.Nspecies])\n",
    "\n",
    "        # set initial condition\n",
    "        x_ts[0] = self.x.flatten()\n",
    "        \n",
    "        i = 0\n",
    "        \n",
    "        # Integrate ODEs according to model and noise\n",
    "        while i < int(self.T / (self.dt * (self.tskip + 1))) and not np.all(np.isnan(self.x)):\n",
    "            for j in range(self.tskip + 1):\n",
    "                self.add_step(i * (self.tskip + 1) + j)\n",
    "\n",
    "            # Save abundances\n",
    "            if self.f != 0:\n",
    "                self.write_abundances_to_file(i * (self.tskip + 1) + j)\n",
    "\n",
    "            x_ts[i] = self.x.flatten()\n",
    "\n",
    "            i += 1\n",
    "\n",
    "        # dataframe to save timeseries\n",
    "        self.x_ts = pd.DataFrame(x_ts, columns=['species_%d' % i for i in range(1, self.Nspecies + 1)])\n",
    "        self.x_ts['time'] = (self.dt * (self.tskip + 1) * np.arange(0, int(self.T / (self.dt * (self.tskip + 1)))))\n",
    "\n",
    "        return\n",
    "\n",
    "    def add_step(self, i):\n",
    "        prob_to_grow = self.probability_to_grow()\n",
    "        dx_det = self.deterministic_step(prob_to_grow) \n",
    "        dx_stoch = self.stochastic_step(prob_to_grow)\n",
    "\n",
    "        self.x += dx_det + dx_stoch\n",
    "\n",
    "        # abundance cannot be negative\n",
    "        self.x[self.x < 0] = 0\n",
    "\n",
    "    def probability_to_grow(self):\n",
    "        return 1 - max(0, min(1, np.sum(self.x)/self.maximum_capacity))\n",
    "        \n",
    "    def deterministic_step(self, prob_to_growth):\n",
    "        return ( self.immigration_rate * prob_to_growth + (\n",
    "            (self.interaction_matrix_pos * prob_to_growth + self.interaction_matrix_neg).dot(self.x) \n",
    "            + self.growth_rate_pos * prob_to_growth + self.growth_rate_neg ) * self.x) * self.dt\n",
    "       \n",
    "    def stochastic_step(self, prob_to_growth):\n",
    "        g = np.random.standard_normal(self.x.shape)\n",
    "        g[g > 0] *= prob_to_growth\n",
    "        return self.noise_linear * self.x * np.sqrt(self.dt) * g\n",
    "\n",
    "    def ricker_step(self):\n",
    "        if self.noise_implementation == NOISE.RICKER_LINEAR:\n",
    "            if self.noise_linear == 0:\n",
    "                b = np.ones(self.x.shape)\n",
    "            else:\n",
    "                b = np.exp(self.noise_linear * np.sqrt(self.dt) * np.random.standard_normal(self.x.shape))\n",
    "            self.x = b * self.x * np.exp(self.interaction_matrix.dot(\n",
    "                self.x + np.linalg.inv(self.interaction_matrix).dot(self.growth_rate)) * self.dt)\n",
    "        else:\n",
    "            raise ValueError('No implementation for \"%s\"' % self.noise_implementation.name)\n",
    "\n",
    "    def arato_step(self, i):\n",
    "        if self.noise_implementation == NOISE.ARATO_LINEAR:\n",
    "            self.xt += self.x * self.dt\n",
    "\n",
    "            t = i * self.dt\n",
    "\n",
    "            Y = self.growth_rate * t - self.noise_linear ** 2 / 2 * t + self.interaction_matrix.dot(self.xt) + \\\n",
    "                self.noise_linear * self.bm[:, i].reshape(self.x.shape)  # noise * np.random.normal(0, 1, initcond.shape)\n",
    "            self.x = self.initial_condition * np.exp(Y)\n",
    "\n",
    "    def write_abundances_to_file(self, i):\n",
    "        with open(self.f, \"a\") as file:\n",
    "            file.write(\"%.5E\" % (i * self.dt))\n",
    "            for k in self.x:\n",
    "                file.write(\",%.5E\" % k)\n",
    "            if self.model == MODEL.QSMI:\n",
    "                for k in self.y:\n",
    "                    file.write(\",%.5E\" % k)\n",
    "            file.write(\"\\n\")\n",
    "\n",
    "    @property\n",
    "    def timeseries(self):\n",
    "        #make sure indices in right order\n",
    "\n",
    "        columns = ['time'] + ['species_%d' % i for i in range(1, self.Nspecies + 1)]\n",
    "        self.x_ts = self.x_ts[columns]\n",
    "\n",
    "        return self.x_ts\n",
    "\n",
    "    @property\n",
    "    def endpoint(self):\n",
    "        df = pd.DataFrame(self.x, columns=['endpoint'], index=['species_%d' % i for i in range(1, self.Nspecies+1)])\n",
    "        return df\n"
   ]
  },
  {
   "cell_type": "code",
   "execution_count": null,
   "metadata": {},
   "outputs": [],
   "source": []
  }
 ],
 "metadata": {
  "hide_input": false,
  "kernelspec": {
   "display_name": "Python 3",
   "language": "python",
   "name": "python3"
  },
  "language_info": {
   "codemirror_mode": {
    "name": "ipython",
    "version": 3
   },
   "file_extension": ".py",
   "mimetype": "text/x-python",
   "name": "python",
   "nbconvert_exporter": "python",
   "pygments_lexer": "ipython3",
   "version": "3.7.6"
  },
  "toc": {
   "base_numbering": 1,
   "nav_menu": {},
   "number_sections": true,
   "sideBar": true,
   "skip_h1_title": false,
   "title_cell": "Table of Contents",
   "title_sidebar": "Contents",
   "toc_cell": false,
   "toc_position": {},
   "toc_section_display": true,
   "toc_window_display": false
  },
  "varInspector": {
   "cols": {
    "lenName": 16,
    "lenType": 16,
    "lenVar": 40
   },
   "kernels_config": {
    "python": {
     "delete_cmd_postfix": "",
     "delete_cmd_prefix": "del ",
     "library": "var_list.py",
     "varRefreshCmd": "print(var_dic_list())"
    },
    "r": {
     "delete_cmd_postfix": ") ",
     "delete_cmd_prefix": "rm(",
     "library": "var_list.r",
     "varRefreshCmd": "cat(var_dic_list()) "
    }
   },
   "types_to_exclude": [
    "module",
    "function",
    "builtin_function_or_method",
    "instance",
    "_Feature"
   ],
   "window_display": false
  }
 },
 "nbformat": 4,
 "nbformat_minor": 4
}
